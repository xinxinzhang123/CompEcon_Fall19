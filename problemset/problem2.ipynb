{
 "cells": [
  {
   "cell_type": "markdown",
   "metadata": {},
   "source": [
    "# ACME_StandardLibrary"
   ]
  },
  {
   "cell_type": "code",
   "execution_count": 5,
   "metadata": {},
   "outputs": [
    {
     "data": {
      "text/plain": [
       "(1, 3, 2)"
      ]
     },
     "execution_count": 5,
     "metadata": {},
     "output_type": "execute_result"
    }
   ],
   "source": [
    "#problem1\n",
    "def f1(list):\n",
    "    a=min(list)\n",
    "    b=max(list)\n",
    "    c=sum(list)/len(list)\n",
    "    return a,b,c\n",
    "f1([1, 2, 3])"
   ]
  },
  {
   "cell_type": "code",
   "execution_count": 29,
   "metadata": {},
   "outputs": [
    {
     "data": {
      "text/plain": [
       "False"
      ]
     },
     "execution_count": 29,
     "metadata": {},
     "output_type": "execute_result"
    }
   ],
   "source": [
    "#problem2\n",
    "#int\n",
    "a=3\n",
    "b=a\n",
    "b=4\n",
    "a==b"
   ]
  },
  {
   "cell_type": "code",
   "execution_count": 30,
   "metadata": {},
   "outputs": [
    {
     "data": {
      "text/plain": [
       "False"
      ]
     },
     "execution_count": 30,
     "metadata": {},
     "output_type": "execute_result"
    }
   ],
   "source": [
    "#str\n",
    "a=\"apple\"\n",
    "b=a\n",
    "b=\"banana\"\n",
    "a==b"
   ]
  },
  {
   "cell_type": "code",
   "execution_count": 31,
   "metadata": {},
   "outputs": [
    {
     "data": {
      "text/plain": [
       "True"
      ]
     },
     "execution_count": 31,
     "metadata": {},
     "output_type": "execute_result"
    }
   ],
   "source": [
    "#list\n",
    "a = [1, 2, 3]\n",
    "b=a\n",
    "b[1]=4\n",
    "a==b"
   ]
  },
  {
   "cell_type": "code",
   "execution_count": 32,
   "metadata": {},
   "outputs": [
    {
     "ename": "TypeError",
     "evalue": "'tuple' object does not support item assignment",
     "output_type": "error",
     "traceback": [
      "\u001b[0;31m---------------------------------------------------------------------------\u001b[0m",
      "\u001b[0;31mTypeError\u001b[0m                                 Traceback (most recent call last)",
      "\u001b[0;32m<ipython-input-32-c93a80ddb96f>\u001b[0m in \u001b[0;36m<module>\u001b[0;34m()\u001b[0m\n\u001b[1;32m      2\u001b[0m \u001b[0ma\u001b[0m\u001b[0;34m=\u001b[0m\u001b[0;34m(\u001b[0m\u001b[0;36m1\u001b[0m\u001b[0;34m,\u001b[0m\u001b[0;36m2\u001b[0m\u001b[0;34m,\u001b[0m\u001b[0;36m3\u001b[0m\u001b[0;34m)\u001b[0m\u001b[0;34m\u001b[0m\u001b[0m\n\u001b[1;32m      3\u001b[0m \u001b[0mb\u001b[0m\u001b[0;34m=\u001b[0m\u001b[0ma\u001b[0m\u001b[0;34m\u001b[0m\u001b[0m\n\u001b[0;32m----> 4\u001b[0;31m \u001b[0mb\u001b[0m\u001b[0;34m[\u001b[0m\u001b[0;36m1\u001b[0m\u001b[0;34m]\u001b[0m\u001b[0;34m=\u001b[0m\u001b[0;36m4\u001b[0m\u001b[0;34m\u001b[0m\u001b[0m\n\u001b[0m\u001b[1;32m      5\u001b[0m \u001b[0ma\u001b[0m\u001b[0;34m==\u001b[0m\u001b[0mb\u001b[0m\u001b[0;34m\u001b[0m\u001b[0m\n",
      "\u001b[0;31mTypeError\u001b[0m: 'tuple' object does not support item assignment"
     ]
    }
   ],
   "source": [
    "#tuple\n",
    "a=(1,2,3)\n",
    "b=a\n",
    "b[1]=4\n",
    "a==b"
   ]
  },
  {
   "cell_type": "code",
   "execution_count": 34,
   "metadata": {},
   "outputs": [
    {
     "data": {
      "text/plain": [
       "True"
      ]
     },
     "execution_count": 34,
     "metadata": {},
     "output_type": "execute_result"
    }
   ],
   "source": [
    "#set\n",
    "a={1,2,3,3,4}\n",
    "b=a\n",
    "b.add(2)\n",
    "a==b"
   ]
  },
  {
   "cell_type": "markdown",
   "metadata": {
    "collapsed": true
   },
   "source": [
    "#int, str, and tuple are immutable, list and set are mutable"
   ]
  },
  {
   "cell_type": "code",
   "execution_count": 13,
   "metadata": {
    "collapsed": true
   },
   "outputs": [],
   "source": [
    "#problem3\n",
    "from math import sqrt\n",
    "import calculator as cl\n",
    "def tri(a,b):\n",
    "    c=sqrt(cl.f1(cl.f2(a,a),cl.f2(b,b)))\n",
    "    return c"
   ]
  },
  {
   "cell_type": "markdown",
   "metadata": {},
   "source": [
    "# AMCE_NumpyIntro"
   ]
  },
  {
   "cell_type": "code",
   "execution_count": 24,
   "metadata": {},
   "outputs": [
    {
     "data": {
      "text/plain": [
       "array([[ 37,  14, -32, -10],\n",
       "       [-54,  -7,  58,  65]])"
      ]
     },
     "execution_count": 24,
     "metadata": {},
     "output_type": "execute_result"
    }
   ],
   "source": [
    "import numpy as np\n",
    "#problem1\n",
    "def f1():\n",
    "    a=np.array([[3,-1,4],[1,5,-9]])\n",
    "    b=np.array([[2,6,-5,3],[5,-8,9,7],[9,-3,-2,-3]])\n",
    "    c=np.dot(a,b)\n",
    "    return c\n",
    "f1()"
   ]
  },
  {
   "cell_type": "code",
   "execution_count": 25,
   "metadata": {},
   "outputs": [
    {
     "data": {
      "text/plain": [
       "array([[   9,   -7,   20],\n",
       "       [  -7,   25, -135],\n",
       "       [ 425,    9,   -7]])"
      ]
     },
     "execution_count": 25,
     "metadata": {},
     "output_type": "execute_result"
    }
   ],
   "source": [
    "#problem2\n",
    "def f2():\n",
    "    a=np.array([[3,1,4],[1,5,9],[-5,3,1]])\n",
    "    b=-a*a*a+9*a*a-15*a\n",
    "    return b\n",
    "f2()"
   ]
  },
  {
   "cell_type": "code",
   "execution_count": 26,
   "metadata": {},
   "outputs": [
    {
     "data": {
      "text/plain": [
       "array([[ 0.,  0.,  0.,  0.,  1.,  1.,  1.,  1.],\n",
       "       [ 0.,  0.,  0.,  2.,  3.,  1.,  1.,  1.],\n",
       "       [ 0.,  0.,  0.,  4.,  5.,  1.,  1.,  1.],\n",
       "       [ 0.,  2.,  4.,  0.,  0.,  0.,  0.,  0.],\n",
       "       [ 1.,  3.,  5.,  0.,  0.,  0.,  0.,  0.],\n",
       "       [ 3.,  0.,  0.,  0.,  0., -2.,  0.,  0.],\n",
       "       [ 3.,  3.,  0.,  0.,  0.,  0., -2.,  0.],\n",
       "       [ 3.,  3.,  3.,  0.,  0.,  0.,  0., -2.]])"
      ]
     },
     "execution_count": 26,
     "metadata": {},
     "output_type": "execute_result"
    }
   ],
   "source": [
    "#problem3\n",
    "a=np.array([[0,2,4],[1,3,5]])\n",
    "b=np.array([[3,0,0],[3,3,0],[3,3,3]])\n",
    "c=np.array([[-2,0,0],[0,-2,0],[0,0,-2]])\n",
    "e1=np.vstack((np.zeros((3,3)),a,b))\n",
    "e2=np.vstack((a.T,np.zeros((2,2)),np.zeros((3,2))))\n",
    "e3=np.vstack((np.ones((3,3)),np.zeros((2,3)),c))\n",
    "e=np.hstack((e1,e2,e3))\n",
    "e"
   ]
  },
  {
   "cell_type": "markdown",
   "metadata": {},
   "source": [
    "# ACME_Objective Oriented"
   ]
  },
  {
   "cell_type": "code",
   "execution_count": 27,
   "metadata": {
    "collapsed": true
   },
   "outputs": [],
   "source": [
    "class Backpack:\n",
    "    '''\n",
    "    Attributes:\n",
    "    name (str): the name of the Backpack.\n",
    "    color (str): the color of the Backpack.\n",
    "    max_size (int): the maximum number of items that can fit inside.\n",
    "    contents (list): the contents of the backpack.\n",
    "\n",
    "    Methods:\n",
    "    put(item): add item if number of items in class does not exceed max_size\n",
    "    dump: empty content of self\n",
    "    \n",
    "    '''\n",
    "    #problem1\n",
    "    def __init__(self, name,color,max_size=5): \n",
    "        self.name = name \n",
    "        self.color = color\n",
    "        self.max_size=max_size\n",
    "        self.contents =[]\n",
    "    #problem2\n",
    "    def put(self, item):\n",
    "        count=0\n",
    "        for k in self.contents:\n",
    "             count +=1\n",
    "        if count>=self.max_size:\n",
    "            print(\"No Room!\")\n",
    "        else:\n",
    "            self.contents.append(item)\n",
    "    #problem3\n",
    "    def dump(self):\n",
    "        self.contents =[]"
   ]
  },
  {
   "cell_type": "code",
   "execution_count": null,
   "metadata": {
    "collapsed": true
   },
   "outputs": [],
   "source": [
    "class Jetpack(Backpack):\n",
    "    '''\n",
    "    Attributes:\n",
    "    name (str): the name of the Jetpack.\n",
    "    color (str): the color of the Jetpack.\n",
    "    max_size (int): the maximum number of items that can fit inside.\n",
    "    contents (list): the contents of the backpack.\n",
    "    fuleamount (int): amount of fuel\n",
    "    \n",
    "    Methods:\n",
    "    fly: input an amount of fuel to be burned and decrement the fuel attribute by that amount if amount of fuel \n",
    "            to be burned is less than fuel attribute.\n",
    "    dump: empty content and amount of fule\n",
    "    \n",
    "    '''\n",
    "    #problem1\n",
    "    def __init__(self, name, color, max_size=2,fuleamount=10):\n",
    "        self.fuleamount = fuleamount\n",
    "        Backpack.__init__(self, name, color, max_size)\n",
    "    #problem2\n",
    "    def fly(self, fuleburn):\n",
    "        if fuleburn>self.fuleamount:\n",
    "            print(\"Not enough fule!\")\n",
    "        else:\n",
    "            self.fuleamount=self.fuleamount-fuleburn\n",
    "    #problem3\n",
    "    def dump(self):\n",
    "        self.contents =[]\n",
    "        self.fuleamount=0"
   ]
  }
 ],
 "metadata": {
  "kernelspec": {
   "display_name": "Python 2",
   "language": "python",
   "name": "python2"
  },
  "language_info": {
   "codemirror_mode": {
    "name": "ipython",
    "version": 2
   },
   "file_extension": ".py",
   "mimetype": "text/x-python",
   "name": "python",
   "nbconvert_exporter": "python",
   "pygments_lexer": "ipython2",
   "version": "2.7.14"
  }
 },
 "nbformat": 4,
 "nbformat_minor": 2
}
