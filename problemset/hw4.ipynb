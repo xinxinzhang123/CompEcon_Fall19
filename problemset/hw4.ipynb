{
 "cells": [
  {
   "cell_type": "code",
   "execution_count": 2,
   "metadata": {},
   "outputs": [],
   "source": [
    "# import packages \n",
    "import pandas as pd\n",
    "import numpy as np\n",
    "import scipy.optimize as opt\n",
    "from scipy.optimize import differential_evolution\n",
    "from geopy.distance import geodesic"
   ]
  },
  {
   "cell_type": "code",
   "execution_count": 3,
   "metadata": {
    "scrolled": true
   },
   "outputs": [
    {
     "ename": "FileNotFoundError",
     "evalue": "[Errno 2] No such file or directory: 'radio_merger_data.xlsx'",
     "output_type": "error",
     "traceback": [
      "\u001b[0;31m---------------------------------------------------------------------------\u001b[0m",
      "\u001b[0;31mFileNotFoundError\u001b[0m                         Traceback (most recent call last)",
      "\u001b[0;32m<ipython-input-3-c434e933b26d>\u001b[0m in \u001b[0;36m<module>\u001b[0;34m\u001b[0m\n\u001b[1;32m      1\u001b[0m \u001b[0;31m# Read data\u001b[0m\u001b[0;34m\u001b[0m\u001b[0;34m\u001b[0m\u001b[0;34m\u001b[0m\u001b[0m\n\u001b[0;32m----> 2\u001b[0;31m \u001b[0mps4\u001b[0m \u001b[0;34m=\u001b[0m \u001b[0mpd\u001b[0m\u001b[0;34m.\u001b[0m\u001b[0mread_excel\u001b[0m\u001b[0;34m(\u001b[0m\u001b[0;34m'radio_merger_data.xlsx'\u001b[0m\u001b[0;34m)\u001b[0m\u001b[0;34m\u001b[0m\u001b[0;34m\u001b[0m\u001b[0m\n\u001b[0m\u001b[1;32m      3\u001b[0m \u001b[0;31m#Part One\u001b[0m\u001b[0;34m\u001b[0m\u001b[0;34m\u001b[0m\u001b[0;34m\u001b[0m\u001b[0m\n\u001b[1;32m      4\u001b[0m \u001b[0;31m# create dataframe for counterfactual\u001b[0m\u001b[0;34m\u001b[0m\u001b[0;34m\u001b[0m\u001b[0;34m\u001b[0m\u001b[0m\n\u001b[1;32m      5\u001b[0m \u001b[0mcf\u001b[0m\u001b[0;34m=\u001b[0m\u001b[0mnp\u001b[0m\u001b[0;34m.\u001b[0m\u001b[0marray\u001b[0m\u001b[0;34m(\u001b[0m\u001b[0;34m[\u001b[0m\u001b[0;34m]\u001b[0m\u001b[0;34m)\u001b[0m\u001b[0;34m\u001b[0m\u001b[0;34m\u001b[0m\u001b[0m\n",
      "\u001b[0;32m//anaconda3/lib/python3.7/site-packages/pandas/util/_decorators.py\u001b[0m in \u001b[0;36mwrapper\u001b[0;34m(*args, **kwargs)\u001b[0m\n\u001b[1;32m    186\u001b[0m                 \u001b[0;32melse\u001b[0m\u001b[0;34m:\u001b[0m\u001b[0;34m\u001b[0m\u001b[0;34m\u001b[0m\u001b[0m\n\u001b[1;32m    187\u001b[0m                     \u001b[0mkwargs\u001b[0m\u001b[0;34m[\u001b[0m\u001b[0mnew_arg_name\u001b[0m\u001b[0;34m]\u001b[0m \u001b[0;34m=\u001b[0m \u001b[0mnew_arg_value\u001b[0m\u001b[0;34m\u001b[0m\u001b[0;34m\u001b[0m\u001b[0m\n\u001b[0;32m--> 188\u001b[0;31m             \u001b[0;32mreturn\u001b[0m \u001b[0mfunc\u001b[0m\u001b[0;34m(\u001b[0m\u001b[0;34m*\u001b[0m\u001b[0margs\u001b[0m\u001b[0;34m,\u001b[0m \u001b[0;34m**\u001b[0m\u001b[0mkwargs\u001b[0m\u001b[0;34m)\u001b[0m\u001b[0;34m\u001b[0m\u001b[0;34m\u001b[0m\u001b[0m\n\u001b[0m\u001b[1;32m    189\u001b[0m         \u001b[0;32mreturn\u001b[0m \u001b[0mwrapper\u001b[0m\u001b[0;34m\u001b[0m\u001b[0;34m\u001b[0m\u001b[0m\n\u001b[1;32m    190\u001b[0m     \u001b[0;32mreturn\u001b[0m \u001b[0m_deprecate_kwarg\u001b[0m\u001b[0;34m\u001b[0m\u001b[0;34m\u001b[0m\u001b[0m\n",
      "\u001b[0;32m//anaconda3/lib/python3.7/site-packages/pandas/util/_decorators.py\u001b[0m in \u001b[0;36mwrapper\u001b[0;34m(*args, **kwargs)\u001b[0m\n\u001b[1;32m    186\u001b[0m                 \u001b[0;32melse\u001b[0m\u001b[0;34m:\u001b[0m\u001b[0;34m\u001b[0m\u001b[0;34m\u001b[0m\u001b[0m\n\u001b[1;32m    187\u001b[0m                     \u001b[0mkwargs\u001b[0m\u001b[0;34m[\u001b[0m\u001b[0mnew_arg_name\u001b[0m\u001b[0;34m]\u001b[0m \u001b[0;34m=\u001b[0m \u001b[0mnew_arg_value\u001b[0m\u001b[0;34m\u001b[0m\u001b[0;34m\u001b[0m\u001b[0m\n\u001b[0;32m--> 188\u001b[0;31m             \u001b[0;32mreturn\u001b[0m \u001b[0mfunc\u001b[0m\u001b[0;34m(\u001b[0m\u001b[0;34m*\u001b[0m\u001b[0margs\u001b[0m\u001b[0;34m,\u001b[0m \u001b[0;34m**\u001b[0m\u001b[0mkwargs\u001b[0m\u001b[0;34m)\u001b[0m\u001b[0;34m\u001b[0m\u001b[0;34m\u001b[0m\u001b[0m\n\u001b[0m\u001b[1;32m    189\u001b[0m         \u001b[0;32mreturn\u001b[0m \u001b[0mwrapper\u001b[0m\u001b[0;34m\u001b[0m\u001b[0;34m\u001b[0m\u001b[0m\n\u001b[1;32m    190\u001b[0m     \u001b[0;32mreturn\u001b[0m \u001b[0m_deprecate_kwarg\u001b[0m\u001b[0;34m\u001b[0m\u001b[0;34m\u001b[0m\u001b[0m\n",
      "\u001b[0;32m//anaconda3/lib/python3.7/site-packages/pandas/io/excel.py\u001b[0m in \u001b[0;36mread_excel\u001b[0;34m(io, sheet_name, header, names, index_col, parse_cols, usecols, squeeze, dtype, engine, converters, true_values, false_values, skiprows, nrows, na_values, keep_default_na, verbose, parse_dates, date_parser, thousands, comment, skip_footer, skipfooter, convert_float, mangle_dupe_cols, **kwds)\u001b[0m\n\u001b[1;32m    348\u001b[0m \u001b[0;34m\u001b[0m\u001b[0m\n\u001b[1;32m    349\u001b[0m     \u001b[0;32mif\u001b[0m \u001b[0;32mnot\u001b[0m \u001b[0misinstance\u001b[0m\u001b[0;34m(\u001b[0m\u001b[0mio\u001b[0m\u001b[0;34m,\u001b[0m \u001b[0mExcelFile\u001b[0m\u001b[0;34m)\u001b[0m\u001b[0;34m:\u001b[0m\u001b[0;34m\u001b[0m\u001b[0;34m\u001b[0m\u001b[0m\n\u001b[0;32m--> 350\u001b[0;31m         \u001b[0mio\u001b[0m \u001b[0;34m=\u001b[0m \u001b[0mExcelFile\u001b[0m\u001b[0;34m(\u001b[0m\u001b[0mio\u001b[0m\u001b[0;34m,\u001b[0m \u001b[0mengine\u001b[0m\u001b[0;34m=\u001b[0m\u001b[0mengine\u001b[0m\u001b[0;34m)\u001b[0m\u001b[0;34m\u001b[0m\u001b[0;34m\u001b[0m\u001b[0m\n\u001b[0m\u001b[1;32m    351\u001b[0m \u001b[0;34m\u001b[0m\u001b[0m\n\u001b[1;32m    352\u001b[0m     return io.parse(\n",
      "\u001b[0;32m//anaconda3/lib/python3.7/site-packages/pandas/io/excel.py\u001b[0m in \u001b[0;36m__init__\u001b[0;34m(self, io, engine)\u001b[0m\n\u001b[1;32m    651\u001b[0m         \u001b[0mself\u001b[0m\u001b[0;34m.\u001b[0m\u001b[0m_io\u001b[0m \u001b[0;34m=\u001b[0m \u001b[0m_stringify_path\u001b[0m\u001b[0;34m(\u001b[0m\u001b[0mio\u001b[0m\u001b[0;34m)\u001b[0m\u001b[0;34m\u001b[0m\u001b[0;34m\u001b[0m\u001b[0m\n\u001b[1;32m    652\u001b[0m \u001b[0;34m\u001b[0m\u001b[0m\n\u001b[0;32m--> 653\u001b[0;31m         \u001b[0mself\u001b[0m\u001b[0;34m.\u001b[0m\u001b[0m_reader\u001b[0m \u001b[0;34m=\u001b[0m \u001b[0mself\u001b[0m\u001b[0;34m.\u001b[0m\u001b[0m_engines\u001b[0m\u001b[0;34m[\u001b[0m\u001b[0mengine\u001b[0m\u001b[0;34m]\u001b[0m\u001b[0;34m(\u001b[0m\u001b[0mself\u001b[0m\u001b[0;34m.\u001b[0m\u001b[0m_io\u001b[0m\u001b[0;34m)\u001b[0m\u001b[0;34m\u001b[0m\u001b[0;34m\u001b[0m\u001b[0m\n\u001b[0m\u001b[1;32m    654\u001b[0m \u001b[0;34m\u001b[0m\u001b[0m\n\u001b[1;32m    655\u001b[0m     \u001b[0;32mdef\u001b[0m \u001b[0m__fspath__\u001b[0m\u001b[0;34m(\u001b[0m\u001b[0mself\u001b[0m\u001b[0;34m)\u001b[0m\u001b[0;34m:\u001b[0m\u001b[0;34m\u001b[0m\u001b[0;34m\u001b[0m\u001b[0m\n",
      "\u001b[0;32m//anaconda3/lib/python3.7/site-packages/pandas/io/excel.py\u001b[0m in \u001b[0;36m__init__\u001b[0;34m(self, filepath_or_buffer)\u001b[0m\n\u001b[1;32m    422\u001b[0m             \u001b[0mself\u001b[0m\u001b[0;34m.\u001b[0m\u001b[0mbook\u001b[0m \u001b[0;34m=\u001b[0m \u001b[0mxlrd\u001b[0m\u001b[0;34m.\u001b[0m\u001b[0mopen_workbook\u001b[0m\u001b[0;34m(\u001b[0m\u001b[0mfile_contents\u001b[0m\u001b[0;34m=\u001b[0m\u001b[0mdata\u001b[0m\u001b[0;34m)\u001b[0m\u001b[0;34m\u001b[0m\u001b[0;34m\u001b[0m\u001b[0m\n\u001b[1;32m    423\u001b[0m         \u001b[0;32melif\u001b[0m \u001b[0misinstance\u001b[0m\u001b[0;34m(\u001b[0m\u001b[0mfilepath_or_buffer\u001b[0m\u001b[0;34m,\u001b[0m \u001b[0mcompat\u001b[0m\u001b[0;34m.\u001b[0m\u001b[0mstring_types\u001b[0m\u001b[0;34m)\u001b[0m\u001b[0;34m:\u001b[0m\u001b[0;34m\u001b[0m\u001b[0;34m\u001b[0m\u001b[0m\n\u001b[0;32m--> 424\u001b[0;31m             \u001b[0mself\u001b[0m\u001b[0;34m.\u001b[0m\u001b[0mbook\u001b[0m \u001b[0;34m=\u001b[0m \u001b[0mxlrd\u001b[0m\u001b[0;34m.\u001b[0m\u001b[0mopen_workbook\u001b[0m\u001b[0;34m(\u001b[0m\u001b[0mfilepath_or_buffer\u001b[0m\u001b[0;34m)\u001b[0m\u001b[0;34m\u001b[0m\u001b[0;34m\u001b[0m\u001b[0m\n\u001b[0m\u001b[1;32m    425\u001b[0m         \u001b[0;32melse\u001b[0m\u001b[0;34m:\u001b[0m\u001b[0;34m\u001b[0m\u001b[0;34m\u001b[0m\u001b[0m\n\u001b[1;32m    426\u001b[0m             raise ValueError('Must explicitly set engine if not passing in'\n",
      "\u001b[0;32m//anaconda3/lib/python3.7/site-packages/xlrd/__init__.py\u001b[0m in \u001b[0;36mopen_workbook\u001b[0;34m(filename, logfile, verbosity, use_mmap, file_contents, encoding_override, formatting_info, on_demand, ragged_rows)\u001b[0m\n\u001b[1;32m    109\u001b[0m     \u001b[0;32melse\u001b[0m\u001b[0;34m:\u001b[0m\u001b[0;34m\u001b[0m\u001b[0;34m\u001b[0m\u001b[0m\n\u001b[1;32m    110\u001b[0m         \u001b[0mfilename\u001b[0m \u001b[0;34m=\u001b[0m \u001b[0mos\u001b[0m\u001b[0;34m.\u001b[0m\u001b[0mpath\u001b[0m\u001b[0;34m.\u001b[0m\u001b[0mexpanduser\u001b[0m\u001b[0;34m(\u001b[0m\u001b[0mfilename\u001b[0m\u001b[0;34m)\u001b[0m\u001b[0;34m\u001b[0m\u001b[0;34m\u001b[0m\u001b[0m\n\u001b[0;32m--> 111\u001b[0;31m         \u001b[0;32mwith\u001b[0m \u001b[0mopen\u001b[0m\u001b[0;34m(\u001b[0m\u001b[0mfilename\u001b[0m\u001b[0;34m,\u001b[0m \u001b[0;34m\"rb\"\u001b[0m\u001b[0;34m)\u001b[0m \u001b[0;32mas\u001b[0m \u001b[0mf\u001b[0m\u001b[0;34m:\u001b[0m\u001b[0;34m\u001b[0m\u001b[0;34m\u001b[0m\u001b[0m\n\u001b[0m\u001b[1;32m    112\u001b[0m             \u001b[0mpeek\u001b[0m \u001b[0;34m=\u001b[0m \u001b[0mf\u001b[0m\u001b[0;34m.\u001b[0m\u001b[0mread\u001b[0m\u001b[0;34m(\u001b[0m\u001b[0mpeeksz\u001b[0m\u001b[0;34m)\u001b[0m\u001b[0;34m\u001b[0m\u001b[0;34m\u001b[0m\u001b[0m\n\u001b[1;32m    113\u001b[0m     \u001b[0;32mif\u001b[0m \u001b[0mpeek\u001b[0m \u001b[0;34m==\u001b[0m \u001b[0;34mb\"PK\\x03\\x04\"\u001b[0m\u001b[0;34m:\u001b[0m \u001b[0;31m# a ZIP file\u001b[0m\u001b[0;34m\u001b[0m\u001b[0;34m\u001b[0m\u001b[0m\n",
      "\u001b[0;31mFileNotFoundError\u001b[0m: [Errno 2] No such file or directory: 'radio_merger_data.xlsx'"
     ]
    }
   ],
   "source": [
    "# Read data\n",
    "ps4 = pd.read_excel('radio_merger_data.xlsx')\n",
    "#Part One\n",
    "# create dataframe for counterfactual \n",
    "cf=np.array([])\n",
    "# calculate number of observations in each year\n",
    "a=[len(ps4[ps4.year==2007]),len(ps4[ps4.year==2008])]"
   ]
  },
  {
   "cell_type": "code",
   "execution_count": 3,
   "metadata": {},
   "outputs": [],
   "source": [
    "# find all counterfactuals\n",
    "i=0\n",
    "for i in range(0,2):\n",
    "    j=0\n",
    "    if i==1:\n",
    "        m=a[0]\n",
    "    else:\n",
    "        m=0\n",
    "    for j in range (0,a[i]-1):\n",
    "        k=j+1\n",
    "        for k in range (j+1,a[i]):\n",
    "            # f(b,t)\n",
    "            x1y1=ps4.iloc[j+m*i,9]*ps4.iloc[j+m*i,10]\n",
    "            x2y1=ps4.iloc[j+m*i,11]*ps4.iloc[j+m*i,10]\n",
    "            dis=geodesic((ps4.iloc[j+m*i,3],ps4.iloc[j+m*i,4]),(ps4.iloc[j+m*i,5],ps4.iloc[j+m*i,6])).miles\n",
    "            # f(b`,t`)\n",
    "            x1y1a=ps4.iloc[k+m*i,9]*ps4.iloc[k+m*i,10]\n",
    "            x2y1a=ps4.iloc[k+m*i,11]*ps4.iloc[k+m*i,10]\n",
    "            disa=geodesic((ps4.iloc[k+m*i,3],ps4.iloc[k+m*i,4]),(ps4.iloc[k+m*i,5],ps4.iloc[k+m*i,6])).miles\n",
    "            # f(b`,t)\n",
    "            x1y1b=ps4.iloc[j+m*i,9]*ps4.iloc[k+m*i,10]\n",
    "            x2y1b=ps4.iloc[j+m*i,11]*ps4.iloc[k+m*i,10]\n",
    "            disb=geodesic((ps4.iloc[j+m*i,3],ps4.iloc[j+m*i,4]),(ps4.iloc[k+m*i,5],ps4.iloc[k+m*i,6])).miles\n",
    "            # f(b,t`)\n",
    "            x1y1c=ps4.iloc[k+m*i,9]*ps4.iloc[j+m*i,10]\n",
    "            x2y1c=ps4.iloc[k+m*i,11]*ps4.iloc[j+m*i,10]\n",
    "            disc=geodesic((ps4.iloc[k+m*i,3],ps4.iloc[k+m*i,4]),(ps4.iloc[j+m*i,5],ps4.iloc[j+m*i,6])).miles\n",
    "            # append to array cf\n",
    "            cf=np.append(cf,[x1y1,x2y1,dis,x1y1a,x2y1a,disa,x1y1b,x2y1b,disb,x1y1c,x2y1c,disc])\n",
    "            k=k+1\n",
    "        j=j+1\n",
    "    i=i+1"
   ]
  },
  {
   "cell_type": "code",
   "execution_count": 4,
   "metadata": {},
   "outputs": [],
   "source": [
    "# MSE functions\n",
    "i=0\n",
    "score=0\n",
    "def mse(params):\n",
    "    a = params[0]\n",
    "    b = params[1]\n",
    "    for i in range(0,2421):\n",
    "        # f(b,t)+f(b`,t`)\n",
    "        f1=cf[i*12]+a*cf[i*12+1]+b*cf[i*12+2]+cf[i*12+3]+a*cf[i*12+4]+b*cf[i*12+5]\n",
    "        # f(b`,t)+f(b,t`)\n",
    "        f2=cf[i*12+6]+a*cf[i*12+7]+b*cf[i*12+8]+cf[i*12+9]+a*cf[i*12+10]+b*cf[i*12+11]\n",
    "        # f1>f2  \n",
    "        s=(f1>f2)\n",
    "        score=-s.sum()\n",
    "        i=i+1\n",
    "    return score"
   ]
  },
  {
   "cell_type": "code",
   "execution_count": 1,
   "metadata": {},
   "outputs": [
    {
     "ename": "NameError",
     "evalue": "name 'differential_evolution' is not defined",
     "output_type": "error",
     "traceback": [
      "\u001b[0;31m---------------------------------------------------------------------------\u001b[0m",
      "\u001b[0;31mNameError\u001b[0m                                 Traceback (most recent call last)",
      "\u001b[0;32m<ipython-input-1-29a47be2ea18>\u001b[0m in \u001b[0;36m<module>\u001b[0;34m\u001b[0m\n\u001b[1;32m      1\u001b[0m \u001b[0mbounds\u001b[0m\u001b[0;34m=\u001b[0m\u001b[0;34m[\u001b[0m\u001b[0;34m(\u001b[0m\u001b[0;34m-\u001b[0m\u001b[0;36m1\u001b[0m\u001b[0;34m,\u001b[0m\u001b[0;36m1\u001b[0m\u001b[0;34m)\u001b[0m\u001b[0;34m,\u001b[0m\u001b[0;34m(\u001b[0m\u001b[0;34m-\u001b[0m\u001b[0;36m2\u001b[0m\u001b[0;34m,\u001b[0m\u001b[0;36m2\u001b[0m\u001b[0;34m)\u001b[0m\u001b[0;34m]\u001b[0m\u001b[0;34m\u001b[0m\u001b[0;34m\u001b[0m\u001b[0m\n\u001b[1;32m      2\u001b[0m \u001b[0;31m# minimum score\u001b[0m\u001b[0;34m\u001b[0m\u001b[0;34m\u001b[0m\u001b[0;34m\u001b[0m\u001b[0m\n\u001b[0;32m----> 3\u001b[0;31m \u001b[0mresults\u001b[0m \u001b[0;34m=\u001b[0m \u001b[0mdifferential_evolution\u001b[0m\u001b[0;34m(\u001b[0m\u001b[0mmse\u001b[0m\u001b[0;34m,\u001b[0m\u001b[0mbounds\u001b[0m\u001b[0;34m)\u001b[0m\u001b[0;34m\u001b[0m\u001b[0;34m\u001b[0m\u001b[0m\n\u001b[0m\u001b[1;32m      4\u001b[0m \u001b[0;34m\"Initial Guess\"\u001b[0m\u001b[0;34m\u001b[0m\u001b[0;34m\u001b[0m\u001b[0m\n\u001b[1;32m      5\u001b[0m \u001b[0mb1\u001b[0m \u001b[0;34m=\u001b[0m \u001b[0;34m(\u001b[0m\u001b[0;36m0.5\u001b[0m\u001b[0;34m,\u001b[0m \u001b[0;36m1\u001b[0m\u001b[0;34m)\u001b[0m\u001b[0;34m\u001b[0m\u001b[0;34m\u001b[0m\u001b[0m\n",
      "\u001b[0;31mNameError\u001b[0m: name 'differential_evolution' is not defined"
     ]
    }
   ],
   "source": [
    "bounds=[(-1,1),(-2,2)]\n",
    "# minimum score\n",
    "results = differential_evolution(mse,bounds)\n",
    "\"Initial Guess\"\n",
    "b1 = (0.5, 1)\n",
    "\n",
    "\"Optimization routine\"\n",
    "f_bt_2 = opt.minimize(mse, b1, cf, method = 'Nelder-Mead', options={'disp': True})"
   ]
  },
  {
   "cell_type": "code",
   "execution_count": null,
   "metadata": {},
   "outputs": [],
   "source": [
    "#part 2"
   ]
  },
  {
   "cell_type": "code",
   "execution_count": 6,
   "metadata": {},
   "outputs": [],
   "source": [
    "# create dataframe for counterfactual \n",
    "cf=np.array([])\n",
    "# calculate number of observations in each year\n",
    "a=[len(ps4[ps4.year==2007]),len(ps4[ps4.year==2008])]\n",
    "# find all counterfactuals\n",
    "i=0\n",
    "for i in range(0,2):\n",
    "    j=0\n",
    "    if i==1:\n",
    "        m=a[0]\n",
    "    else:\n",
    "        m=0\n",
    "    for j in range (0,a[i]-1):\n",
    "        k=j+1\n",
    "        for k in range (j+1,a[i]):\n",
    "            # f(b,t)\n",
    "            x1y1=ps4.iloc[j+m*i,9]*ps4.iloc[j+m*i,10]\n",
    "            x2y1=ps4.iloc[j+m*i,11]*ps4.iloc[j+m*i,10]\n",
    "            hhi=ps4.iloc[j+m*i,8]\n",
    "            dis=geodesic((ps4.iloc[j+m*i,3],ps4.iloc[j+m*i,4]),(ps4.iloc[j+m*i,5],ps4.iloc[j+m*i,6])).miles\n",
    "            # f(b`,t`)\n",
    "            x1y1a=ps4.iloc[k+m*i,9]*ps4.iloc[k+m*i,10]\n",
    "            x2y1a=ps4.iloc[k+m*i,11]*ps4.iloc[k+m*i,10]\n",
    "            hhia=ps4.iloc[k+m*i,8]\n",
    "            disa=geodesic((ps4.iloc[k+m*i,3],ps4.iloc[k+m*i,4]),(ps4.iloc[k+m*i,5],ps4.iloc[k+m*i,6])).miles\n",
    "            # f(b,t`)\n",
    "            x1y1b=ps4.iloc[j+m*i,9]*ps4.iloc[k+m*i,10]\n",
    "            x2y1b=ps4.iloc[j+m*i,11]*ps4.iloc[k+m*i,10]\n",
    "            hhib=ps4.iloc[k+m*i,8]\n",
    "            disb=geodesic((ps4.iloc[j+m*i,3],ps4.iloc[j+m*i,4]),(ps4.iloc[k+m*i,5],ps4.iloc[k+m*i,6])).miles\n",
    "            # f(b`,t)\n",
    "            x1y1c=ps4.iloc[k+m*i,9]*ps4.iloc[j+m*i,10]\n",
    "            x2y1c=ps4.iloc[k+m*i,11]*ps4.iloc[j+m*i,10]\n",
    "            hhic=ps4.iloc[j+m*i,8]\n",
    "            disc=geodesic((ps4.iloc[k+m*i,3],ps4.iloc[k+m*i,4]),(ps4.iloc[j+m*i,5],ps4.iloc[j+m*i,6])).miles\n",
    "            # p(b,t) and p(b`,t`)\n",
    "            p1=ps4.iloc[j+m*i,3]\n",
    "            p2=ps4.iloc[k+m*i,3]\n",
    "            # append to array cf\n",
    "            cf=np.append(cf,[x1y1,x2y1,hhi,dis,x1y1a,x2y1a,hhia,disa,x1y1b,x2y1b,hhib,disb,x1y1c,x2y1c,hhic,disc,p1,p2])\n",
    "            k=k+1\n",
    "        j=j+1\n",
    "    i=i+1"
   ]
  },
  {
   "cell_type": "code",
   "execution_count": 256,
   "metadata": {},
   "outputs": [],
   "source": [
    "i=0\n",
    "m=18\n",
    "score=0\n",
    "def mse(params):\n",
    "    a = params[0]\n",
    "    b = params[1]\n",
    "    c = params[2]\n",
    "    d = params[3]\n",
    "    for i in range(0,2421):\n",
    "        # f(b,t)\n",
    "        f1=a*cf[i*m]+b*cf[i*m+1]+c*cf[i*m+2]+d*cf[i*m+3]\n",
    "        # f(b`,t`)\n",
    "        f2=a*cf[i*m+4]+b*cf[i*m+5]+c*cf[i*m+6]+d*cf[i*m+7]\n",
    "        # f(b`,t)\n",
    "        f3=a*cf[i*m+8]+b*cf[i*m+9]+c*cf[i*m+10]+d*cf[i*m+11]\n",
    "        # f(b,t`)\n",
    "        f4=a*cf[i*m+12]+b*cf[i*m+13]+c*cf[i*m+14]+d*cf[i*m+15]\n",
    "        # p1-p2\n",
    "        p=cf[i*m+16]-cf[i*m+17]\n",
    "           \n",
    "        s=(f1-f4>p)&(f2-f3>-p)\n",
    "        score=-s.sum()\n",
    "        i=i+1\n",
    "    return score"
   ]
  },
  {
   "cell_type": "code",
   "execution_count": 7,
   "metadata": {},
   "outputs": [
    {
     "data": {
      "text/plain": [
       "     fun: 0.0\n",
       " message: 'Optimization terminated successfully.'\n",
       "    nfev: 125\n",
       "     nit: 1\n",
       " success: True\n",
       "       x: array([ 0.27848879, -0.77872085,  0.8798698 ,  0.08206374])"
      ]
     },
     "execution_count": 7,
     "metadata": {},
     "output_type": "execute_result"
    }
   ],
   "source": [
    "bounds=[(-1,1),(-1,1),(-1,1),(-1,1)]\n",
    "# minimum score\n",
    "results = differential_evolution(mse,bounds)\n",
    "results"
   ]
  }
 ],
 "metadata": {
  "kernelspec": {
   "display_name": "Python 3",
   "language": "python",
   "name": "python3"
  },
  "language_info": {
   "codemirror_mode": {
    "name": "ipython",
    "version": 3
   },
   "file_extension": ".py",
   "mimetype": "text/x-python",
   "name": "python",
   "nbconvert_exporter": "python",
   "pygments_lexer": "ipython3",
   "version": "3.7.3"
  }
 },
 "nbformat": 4,
 "nbformat_minor": 2
}
